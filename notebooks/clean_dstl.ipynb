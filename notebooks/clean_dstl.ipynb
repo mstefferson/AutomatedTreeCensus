{
 "cells": [
  {
   "cell_type": "code",
   "execution_count": null,
   "metadata": {},
   "outputs": [],
   "source": [
    "%load_ext autoreload\n",
    "%autoreload\n",
    "%matplotlib inline\n",
    "import rasterio\n",
    "import sys\n",
    "sys.path.insert(0, \"..\")\n",
    "import src.preprocess.clean_dstl.clean_dstl"
   ]
  },
  {
   "cell_type": "code",
   "execution_count": 6,
   "metadata": {},
   "outputs": [
    {
     "ename": "AttributeError",
     "evalue": "module 'src.preprocess.clean_dstl' has no attribute 'import_grid_sizes'",
     "output_type": "error",
     "traceback": [
      "\u001b[0;31m---------------------------------------------------------------------------\u001b[0m",
      "\u001b[0;31mAttributeError\u001b[0m                            Traceback (most recent call last)",
      "\u001b[0;32m<ipython-input-6-abf9522af186>\u001b[0m in \u001b[0;36m<module>\u001b[0;34m()\u001b[0m\n\u001b[1;32m      2\u001b[0m \u001b[0mgeojson_dir\u001b[0m \u001b[0;34m=\u001b[0m \u001b[0mdata_path\u001b[0m \u001b[0;34m+\u001b[0m \u001b[0;34m\"train_geojson_v3/\"\u001b[0m\u001b[0;34m\u001b[0m\u001b[0m\n\u001b[1;32m      3\u001b[0m \u001b[0mgrid_file\u001b[0m \u001b[0;34m=\u001b[0m \u001b[0mdata_path\u001b[0m \u001b[0;34m+\u001b[0m \u001b[0;34m\"grid_sizes.csv\"\u001b[0m\u001b[0;34m\u001b[0m\u001b[0m\n\u001b[0;32m----> 4\u001b[0;31m \u001b[0mgrid_sizes\u001b[0m \u001b[0;34m=\u001b[0m \u001b[0msrc\u001b[0m\u001b[0;34m.\u001b[0m\u001b[0mpreprocess\u001b[0m\u001b[0;34m.\u001b[0m\u001b[0mclean_dstl\u001b[0m\u001b[0;34m.\u001b[0m\u001b[0mimport_grid_sizes\u001b[0m\u001b[0;34m(\u001b[0m\u001b[0mgrid_file\u001b[0m\u001b[0;34m)\u001b[0m\u001b[0;34m\u001b[0m\u001b[0m\n\u001b[0m\u001b[1;32m      5\u001b[0m \u001b[0;34m\u001b[0m\u001b[0m\n\u001b[1;32m      6\u001b[0m src.preprocess.clean_dstl.view_dstl_image(\n",
      "\u001b[0;31mAttributeError\u001b[0m: module 'src.preprocess.clean_dstl' has no attribute 'import_grid_sizes'"
     ]
    }
   ],
   "source": [
    "data_path =  \"/app/data/raw/dstl/\"\n",
    "geojson_dir = data_path + \"train_geojson_v3/\"\n",
    "grid_file = data_path + \"grid_sizes.csv\"\n",
    "grid_sizes = src.preprocess.clean_dstl.import_grid_sizes(grid_file)\n",
    "\n",
    "src.preprocess.clean_dstl.view_dstl_image(\n",
    "    image_path=data_path + \"/three_band/6010_4_4.tif\",\n",
    "    grid_sizes=grid_sizes,\n",
    "    geojson_dir=geojson_dir)\n"
   ]
  },
  {
   "cell_type": "code",
   "execution_count": null,
   "metadata": {},
   "outputs": [],
   "source": []
  }
 ],
 "metadata": {
  "kernelspec": {
   "display_name": "Python 3",
   "language": "python",
   "name": "python3"
  },
  "language_info": {
   "codemirror_mode": {
    "name": "ipython",
    "version": 3
   },
   "file_extension": ".py",
   "mimetype": "text/x-python",
   "name": "python",
   "nbconvert_exporter": "python",
   "pygments_lexer": "ipython3",
   "version": "3.7.0"
  }
 },
 "nbformat": 4,
 "nbformat_minor": 2
}
