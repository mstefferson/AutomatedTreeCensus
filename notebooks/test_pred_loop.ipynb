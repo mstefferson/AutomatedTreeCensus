{
 "cells": [
  {
   "cell_type": "code",
   "execution_count": 48,
   "metadata": {},
   "outputs": [
    {
     "name": "stdout",
     "output_type": "stream",
     "text": [
      "The autoreload extension is already loaded. To reload it, use:\n",
      "  %reload_ext autoreload\n"
     ]
    }
   ],
   "source": [
    "%load_ext autoreload\n",
    "%autoreload\n",
    "%matplotlib inline\n",
    "import rasterio\n",
    "import sys\n",
    "sys.path.insert(0, \"..\")\n",
    "import src.satellite_analyze\n",
    "import src.locate_trees\n",
    "import numpy as np"
   ]
  },
  {
   "cell_type": "code",
   "execution_count": 49,
   "metadata": {},
   "outputs": [],
   "source": [
    "tifffile = '/app/data/raw/athens_satellite.tif'\n",
    "sat_data = rasterio.open(tifffile)"
   ]
  },
  {
   "cell_type": "code",
   "execution_count": 50,
   "metadata": {},
   "outputs": [
    {
     "name": "stdout",
     "output_type": "stream",
     "text": [
      "sat file (43589x43757)\n",
      "Number of origins 100\n",
      "Percent done: 0.05\n",
      "Percent done: 0.1\n",
      "Percent done: 0.15\n",
      "Percent done: 0.2\n",
      "Percent done: 0.25\n",
      "Percent done: 0.3\n",
      "Percent done: 0.35\n",
      "Percent done: 0.4\n",
      "Percent done: 0.45\n",
      "Percent done: 0.5\n",
      "Percent done: 0.55\n",
      "Percent done: 0.6\n",
      "Percent done: 0.65\n",
      "Percent done: 0.7\n",
      "Percent done: 0.75\n",
      "Percent done: 0.8\n",
      "Percent done: 0.85\n",
      "Percent done: 0.9\n",
      "Percent done: 0.95\n",
      "Percent done: 1.0\n"
     ]
    }
   ],
   "source": [
    "tree_dict, tree_loc = src.locate_trees.pred_tiff(tifffile, r_start=10000, r_end=12000, c_start=10000, c_end=12000)"
   ]
  },
  {
   "cell_type": "code",
   "execution_count": 51,
   "metadata": {},
   "outputs": [
    {
     "data": {
      "text/plain": [
       "{'origin': (11894, 11678),\n",
       " 'size': [200, 200],\n",
       " 'local': array([[0.72942756, 0.29961045, 0.99045681, 0.01259218, 0.41242903],\n",
       "        [0.30644168, 0.70897839, 0.2801251 , 0.82767238, 0.2379342 ],\n",
       "        [0.5101982 , 0.51232098, 0.10488469, 0.14236666, 0.70948133]]),\n",
       " 'global': array([[1.20398855e+04, 1.17379221e+04, 1.98091362e+02, 2.51843513e+00,\n",
       "         1.00000000e+00],\n",
       "        [1.19552883e+04, 1.18197957e+04, 5.60250192e+01, 1.65534476e+02,\n",
       "         1.00000000e+00],\n",
       "        [1.19960396e+04, 1.17804642e+04, 2.09769389e+01, 2.84733329e+01,\n",
       "         1.00000000e+00]])}"
      ]
     },
     "execution_count": 51,
     "metadata": {},
     "output_type": "execute_result"
    }
   ],
   "source": [
    "tree_dict[98]"
   ]
  },
  {
   "cell_type": "code",
   "execution_count": null,
   "metadata": {},
   "outputs": [],
   "source": [
    "org_r, org_c = src.locate_trees.divide_tiff(sat_data, image_w=200, image_h=200)"
   ]
  },
  {
   "cell_type": "code",
   "execution_count": 25,
   "metadata": {},
   "outputs": [
    {
     "name": "stdout",
     "output_type": "stream",
     "text": [
      "[[0.87525958 0.75920774 0.67194009]\n",
      " [0.81583707 0.1692085  0.46560353]\n",
      " [0.14927874 0.26208891 0.42909141]\n",
      " [0.30098211 0.87330275 0.24869645]]\n",
      "[[10.87525958  0.75920774  0.67194009]\n",
      " [10.81583707  0.1692085   0.46560353]\n",
      " [10.14927874  0.26208891  0.42909141]\n",
      " [10.30098211  0.87330275  0.24869645]]\n",
      "[[1.01087526e+03 7.59207737e-01 6.71940092e-01]\n",
      " [1.01081584e+03 1.69208504e-01 4.65603531e-01]\n",
      " [1.01014928e+03 2.62088909e-01 4.29091412e-01]\n",
      " [1.01030098e+03 8.73302749e-01 2.48696454e-01]]\n"
     ]
    }
   ],
   "source": [
    "a = np.random.rand(4,3)\n",
    "print(a)\n",
    "a[:, 0] += 10\n",
    "print(a)\n",
    "a[:, 0] = a[:, 0] + 1000\n",
    "print(a)"
   ]
  },
  {
   "cell_type": "code",
   "execution_count": 29,
   "metadata": {},
   "outputs": [
    {
     "name": "stdout",
     "output_type": "stream",
     "text": [
      "[[1.01087526e+03 7.59207737e-01 6.71940092e-01]\n",
      " [1.01081584e+03 1.69208504e-01 4.65603531e-01]\n",
      " [1.01014928e+03 2.62088909e-01 4.29091412e-01]\n",
      " [1.01030098e+03 8.73302749e-01 2.48696454e-01]]\n",
      "[[1.01087526e+03 7.59207737e-01 6.71940092e-01]\n",
      " [1.01081584e+03 1.69208504e-01 4.65603531e-01]\n",
      " [1.01014928e+03 2.62088909e-01 4.29091412e-01]\n",
      " [1.01030098e+03 8.73302749e-01 2.48696454e-01]\n",
      " [1.01087526e+03 7.59207737e-01 6.71940092e-01]\n",
      " [1.01081584e+03 1.69208504e-01 4.65603531e-01]\n",
      " [1.01014928e+03 2.62088909e-01 4.29091412e-01]\n",
      " [1.01030098e+03 8.73302749e-01 2.48696454e-01]]\n"
     ]
    }
   ],
   "source": [
    "b = np.empty((0,3), int)\n",
    "b = np.append(b, a, axis=0)\n",
    "print(b)\n",
    "b = np.append(b, a, axis=0)\n",
    "print(b)"
   ]
  },
  {
   "cell_type": "code",
   "execution_count": 16,
   "metadata": {},
   "outputs": [
    {
     "data": {
      "text/plain": [
       "0"
      ]
     },
     "execution_count": 16,
     "metadata": {},
     "output_type": "execute_result"
    }
   ],
   "source": [
    "np.random.randint(1)"
   ]
  },
  {
   "cell_type": "code",
   "execution_count": 27,
   "metadata": {},
   "outputs": [
    {
     "name": "stdout",
     "output_type": "stream",
     "text": [
      "[   78.   278.   478.   678.   878.  1078.  1278.  1478.  1678.  1878.\n",
      "  2078.  2278.  2478.  2678.  2878.  3078.  3278.  3478.  3678.  3878.\n",
      "  4078.  4278.  4478.  4678.  4878.  5078.  5278.  5478.  5678.  5878.\n",
      "  6078.  6278.  6478.  6678.  6878.  7078.  7278.  7478.  7678.  7878.\n",
      "  8078.  8278.  8478.  8678.  8878.  9078.  9278.  9478.  9678.  9878.\n",
      " 10078. 10278. 10478. 10678. 10878. 11078. 11278. 11478. 11678. 11878.\n",
      " 12078. 12278. 12478. 12678. 12878. 13078. 13278. 13478. 13678. 13878.\n",
      " 14078. 14278. 14478. 14678. 14878. 15078. 15278. 15478. 15678. 15878.\n",
      " 16078. 16278. 16478. 16678. 16878. 17078. 17278. 17478. 17678. 17878.\n",
      " 18078. 18278. 18478. 18678. 18878. 19078. 19278. 19478. 19678. 19878.\n",
      " 20078. 20278. 20478. 20678. 20878. 21078. 21278. 21478. 21678. 21878.\n",
      " 22078. 22278. 22478. 22678. 22878. 23078. 23278. 23478. 23678. 23878.\n",
      " 24078. 24278. 24478. 24678. 24878. 25078. 25278. 25478. 25678. 25878.\n",
      " 26078. 26278. 26478. 26678. 26878. 27078. 27278. 27478. 27678. 27878.\n",
      " 28078. 28278. 28478. 28678. 28878. 29078. 29278. 29478. 29678. 29878.\n",
      " 30078. 30278. 30478. 30678. 30878. 31078. 31278. 31478. 31678. 31878.\n",
      " 32078. 32278. 32478. 32678. 32878. 33078. 33278. 33478. 33678. 33878.\n",
      " 34078. 34278. 34478. 34678. 34878. 35078. 35278. 35478. 35678. 35878.\n",
      " 36078. 36278. 36478. 36678. 36878. 37078. 37278. 37478. 37678. 37878.\n",
      " 38078. 38278. 38478. 38678. 38878. 39078. 39278. 39478. 39678. 39878.\n",
      " 40078. 40278. 40478. 40678. 40878. 41078. 41278. 41478. 41678. 41878.\n",
      " 42078. 42278. 42478. 42678. 42878. 43078. 43278. 43478.]\n",
      "[   78.   278.   478.   678.   878.  1078.  1278.  1478.  1678.  1878.\n",
      "  2078.  2278.  2478.  2678.  2878.  3078.  3278.  3478.  3678.  3878.\n",
      "  4078.  4278.  4478.  4678.  4878.  5078.  5278.  5478.  5678.  5878.\n",
      "  6078.  6278.  6478.  6678.  6878.  7078.  7278.  7478.  7678.  7878.\n",
      "  8078.  8278.  8478.  8678.  8878.  9078.  9278.  9478.  9678.  9878.\n",
      " 10078. 10278. 10478. 10678. 10878. 11078. 11278. 11478. 11678. 11878.\n",
      " 12078. 12278. 12478. 12678. 12878. 13078. 13278. 13478. 13678. 13878.\n",
      " 14078. 14278. 14478. 14678. 14878. 15078. 15278. 15478. 15678. 15878.\n",
      " 16078. 16278. 16478. 16678. 16878. 17078. 17278. 17478. 17678. 17878.\n",
      " 18078. 18278. 18478. 18678. 18878. 19078. 19278. 19478. 19678. 19878.\n",
      " 20078. 20278. 20478. 20678. 20878. 21078. 21278. 21478. 21678. 21878.\n",
      " 22078. 22278. 22478. 22678. 22878. 23078. 23278. 23478. 23678. 23878.\n",
      " 24078. 24278. 24478. 24678. 24878. 25078. 25278. 25478. 25678. 25878.\n",
      " 26078. 26278. 26478. 26678. 26878. 27078. 27278. 27478. 27678. 27878.\n",
      " 28078. 28278. 28478. 28678. 28878. 29078. 29278. 29478. 29678. 29878.\n",
      " 30078. 30278. 30478. 30678. 30878. 31078. 31278. 31478. 31678. 31878.\n",
      " 32078. 32278. 32478. 32678. 32878. 33078. 33278. 33478. 33678. 33878.\n",
      " 34078. 34278. 34478. 34678. 34878. 35078. 35278. 35478. 35678. 35878.\n",
      " 36078. 36278. 36478. 36678. 36878. 37078. 37278. 37478. 37678. 37878.\n",
      " 38078. 38278. 38478. 38678. 38878. 39078. 39278. 39478. 39678. 39878.\n",
      " 40078. 40278. 40478. 40678. 40878. 41078. 41278. 41478. 41678. 41878.\n",
      " 42078. 42278. 42478. 42678. 42878. 43078. 43278. 43478.]\n"
     ]
    }
   ],
   "source": [
    "print(org_r)\n",
    "print(org_c)"
   ]
  },
  {
   "cell_type": "code",
   "execution_count": 133,
   "metadata": {},
   "outputs": [],
   "source": [
    "if None:\n",
    "    print('hello')"
   ]
  },
  {
   "cell_type": "code",
   "execution_count": 32,
   "metadata": {},
   "outputs": [
    {
     "name": "stdout",
     "output_type": "stream",
     "text": [
      "47524\n"
     ]
    }
   ],
   "source": [
    "num_runs = len(org_r) * len(org_c)\n",
    "print(num_runs)"
   ]
  },
  {
   "cell_type": "code",
   "execution_count": 35,
   "metadata": {},
   "outputs": [
    {
     "data": {
      "text/plain": [
       "45"
      ]
     },
     "execution_count": 35,
     "metadata": {},
     "output_type": "execute_result"
    }
   ],
   "source": [
    "np.min([45, np.inf]).astype('int')"
   ]
  },
  {
   "cell_type": "code",
   "execution_count": 37,
   "metadata": {},
   "outputs": [],
   "source": [
    "rows = np.array([1,2,3])\n",
    "columns = np.array([4,5,6,7,8])\n",
    "c2, r2 = np.meshgrid(columns, rows)"
   ]
  },
  {
   "cell_type": "code",
   "execution_count": 63,
   "metadata": {},
   "outputs": [
    {
     "name": "stdout",
     "output_type": "stream",
     "text": [
      "[(1, 4), (1, 5), (1, 6), (1, 7), (1, 8), (2, 4), (2, 5), (2, 6), (2, 7), (2, 8), (3, 4), (3, 5), (3, 6), (3, 7), (3, 8)]\n"
     ]
    }
   ],
   "source": [
    "origin = [(r,c) for r in rows for c in columns]\n",
    "print(origin)"
   ]
  },
  {
   "cell_type": "code",
   "execution_count": 39,
   "metadata": {},
   "outputs": [
    {
     "name": "stdout",
     "output_type": "stream",
     "text": [
      "[[4 5 6 7 8]\n",
      " [4 5 6 7 8]\n",
      " [4 5 6 7 8]]\n",
      "[[1 1 1 1 1]\n",
      " [2 2 2 2 2]\n",
      " [3 3 3 3 3]]\n"
     ]
    }
   ],
   "source": [
    "print(c2) \n",
    "print(r2)"
   ]
  },
  {
   "cell_type": "code",
   "execution_count": 61,
   "metadata": {},
   "outputs": [
    {
     "name": "stdout",
     "output_type": "stream",
     "text": [
      "(3, 5, 2)\n"
     ]
    }
   ],
   "source": [
    "out = np.dstack((r2,c2))\n",
    "print(out.shape)"
   ]
  },
  {
   "cell_type": "code",
   "execution_count": 52,
   "metadata": {},
   "outputs": [],
   "source": [
    "out_ravel = out.ravel()"
   ]
  },
  {
   "cell_type": "code",
   "execution_count": 59,
   "metadata": {},
   "outputs": [
    {
     "data": {
      "text/plain": [
       "4"
      ]
     },
     "execution_count": 59,
     "metadata": {},
     "output_type": "execute_result"
    }
   ],
   "source": [
    "out_ravel[1]"
   ]
  },
  {
   "cell_type": "code",
   "execution_count": 8,
   "metadata": {},
   "outputs": [
    {
     "name": "stdout",
     "output_type": "stream",
     "text": [
      "hello\n"
     ]
    }
   ],
   "source": [
    "if 1 is not None:\n",
    "    print('hello')"
   ]
  },
  {
   "cell_type": "code",
   "execution_count": null,
   "metadata": {},
   "outputs": [],
   "source": []
  }
 ],
 "metadata": {
  "kernelspec": {
   "display_name": "Python 3",
   "language": "python",
   "name": "python3"
  },
  "language_info": {
   "codemirror_mode": {
    "name": "ipython",
    "version": 2
   },
   "file_extension": ".py",
   "mimetype": "text/x-python",
   "name": "python",
   "nbconvert_exporter": "python",
   "pygments_lexer": "ipython2",
   "version": "2.7.15"
  }
 },
 "nbformat": 4,
 "nbformat_minor": 2
}
