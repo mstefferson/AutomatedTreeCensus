{
 "cells": [
  {
   "cell_type": "code",
   "execution_count": 50,
   "metadata": {},
   "outputs": [
    {
     "name": "stdout",
     "output_type": "stream",
     "text": [
      "The autoreload extension is already loaded. To reload it, use:\n",
      "  %reload_ext autoreload\n"
     ]
    }
   ],
   "source": [
    "%load_ext autoreload\n",
    "%autoreload\n",
    "%matplotlib inline\n",
    "# import rasterio\n",
    "import sys\n",
    "import numpy as np\n",
    "sys.path.insert(0, \"..\")\n",
    "import src.models.predict_classes"
   ]
  },
  {
   "cell_type": "code",
   "execution_count": 51,
   "metadata": {},
   "outputs": [
    {
     "name": "stdout",
     "output_type": "stream",
     "text": [
      "[[13080. 13080.]\n",
      " [13080. 13280.]\n",
      " [13080. 13480.]\n",
      " ...\n",
      " [30480. 30080.]\n",
      " [30480. 30280.]\n",
      " [30480. 30480.]]\n"
     ]
    }
   ],
   "source": [
    "tif_path = '../data/raw/athens_satellite.tif'\n",
    "rel_path = '../data/processed/athens'\n",
    "sat_master = src.models.predict_classes.SatelliteTif(tif_path, rel_path,\n",
    "                 c_channels=[0, 1, 3], sub_img_w=200, sub_img_h=200,\n",
    "                 valid_frac = 0.3,\n",
    "                 r_start=0, r_end=np.inf, c_start=0, c_end=np.inf)"
   ]
  },
  {
   "cell_type": "code",
   "execution_count": 52,
   "metadata": {},
   "outputs": [
    {
     "data": {
      "text/plain": [
       "array([[    0.,     0.],\n",
       "       [    0.,   200.],\n",
       "       [    0.,   400.],\n",
       "       ...,\n",
       "       [43400., 43000.],\n",
       "       [43400., 43200.],\n",
       "       [43400., 43400.]])"
      ]
     },
     "execution_count": 52,
     "metadata": {},
     "output_type": "execute_result"
    }
   ],
   "source": [
    "sat_master.pred_origins"
   ]
  },
  {
   "cell_type": "code",
   "execution_count": 53,
   "metadata": {},
   "outputs": [
    {
     "data": {
      "text/plain": [
       "array([[29880, 28280],\n",
       "       [26280, 25480],\n",
       "       [20080, 25080],\n",
       "       [21680, 25280],\n",
       "       [24480, 28680],\n",
       "       [17080, 18680],\n",
       "       [24680, 20880],\n",
       "       [24080, 27880],\n",
       "       [28280, 16880],\n",
       "       [30080, 18280],\n",
       "       [14080, 26680],\n",
       "       [16680, 20080],\n",
       "       [22280, 29080],\n",
       "       [25680, 27880],\n",
       "       [30280, 16680],\n",
       "       [27680, 19080],\n",
       "       [20480, 18480],\n",
       "       [15680, 28680],\n",
       "       [16280, 28880],\n",
       "       [16280, 29280],\n",
       "       [17280, 14280],\n",
       "       [20080, 28680],\n",
       "       [24480, 20880],\n",
       "       [18480, 17280],\n",
       "       [20880, 13080],\n",
       "       [29280, 26280],\n",
       "       [28480, 15080],\n",
       "       [23680, 29680],\n",
       "       [20280, 25880],\n",
       "       [25080, 21080],\n",
       "       [25080, 20680],\n",
       "       [14080, 24880],\n",
       "       [21880, 30480],\n",
       "       [14480, 27880],\n",
       "       [16880, 29480],\n",
       "       [21880, 21080],\n",
       "       [23680, 26880],\n",
       "       [15280, 25080],\n",
       "       [27680, 13880],\n",
       "       [25480, 28280],\n",
       "       [21080, 29680],\n",
       "       [19680, 21080],\n",
       "       [16680, 29480],\n",
       "       [24480, 25080],\n",
       "       [26080, 13880],\n",
       "       [15880, 14080],\n",
       "       [26080, 14680],\n",
       "       [13280, 29480],\n",
       "       [29080, 21480],\n",
       "       [29680, 14080],\n",
       "       [27280, 15080],\n",
       "       [28480, 22680],\n",
       "       [15080, 16080],\n",
       "       [29280, 21480],\n",
       "       [19480, 19280],\n",
       "       [20680, 26480],\n",
       "       [28080, 22880],\n",
       "       [14280, 18480],\n",
       "       [21880, 27680],\n",
       "       [16680, 30480],\n",
       "       [28280, 23480],\n",
       "       [22080, 14880],\n",
       "       [23280, 27680],\n",
       "       [19080, 28280],\n",
       "       [24280, 25480],\n",
       "       [23080, 30480],\n",
       "       [24480, 20080],\n",
       "       [22480, 18080],\n",
       "       [26280, 26880],\n",
       "       [13880, 14880],\n",
       "       [17480, 26080],\n",
       "       [20680, 13480],\n",
       "       [18680, 14280],\n",
       "       [16680, 14080],\n",
       "       [21280, 14880],\n",
       "       [16080, 15480],\n",
       "       [14680, 25480],\n",
       "       [25080, 28880],\n",
       "       [17880, 22280],\n",
       "       [21280, 13080],\n",
       "       [15880, 19680],\n",
       "       [13680, 16480],\n",
       "       [21280, 16880],\n",
       "       [24280, 17680],\n",
       "       [20080, 23080],\n",
       "       [20880, 18080],\n",
       "       [18480, 28480],\n",
       "       [25080, 13480],\n",
       "       [28880, 24880],\n",
       "       [30280, 23880],\n",
       "       [15480, 18480],\n",
       "       [16880, 20080],\n",
       "       [19480, 18680],\n",
       "       [13080, 15080],\n",
       "       [15680, 29480],\n",
       "       [15280, 20080],\n",
       "       [19880, 22680],\n",
       "       [23880, 22480],\n",
       "       [14080, 26080],\n",
       "       [20280, 18280]])"
      ]
     },
     "execution_count": 53,
     "metadata": {},
     "output_type": "execute_result"
    }
   ],
   "source": [
    "sat_master.train_origins"
   ]
  },
  {
   "cell_type": "code",
   "execution_count": null,
   "metadata": {},
   "outputs": [],
   "source": []
  }
 ],
 "metadata": {
  "kernelspec": {
   "display_name": "Python 3",
   "language": "python",
   "name": "python3"
  },
  "language_info": {
   "codemirror_mode": {
    "name": "ipython",
    "version": 3
   },
   "file_extension": ".py",
   "mimetype": "text/x-python",
   "name": "python",
   "nbconvert_exporter": "python",
   "pygments_lexer": "ipython3",
   "version": "3.6.5"
  }
 },
 "nbformat": 4,
 "nbformat_minor": 2
}
