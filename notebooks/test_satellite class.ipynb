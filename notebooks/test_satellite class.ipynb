{
 "cells": [
  {
   "cell_type": "code",
   "execution_count": 175,
   "metadata": {},
   "outputs": [
    {
     "name": "stdout",
     "output_type": "stream",
     "text": [
      "The autoreload extension is already loaded. To reload it, use:\n",
      "  %reload_ext autoreload\n"
     ]
    }
   ],
   "source": [
    "%load_ext autoreload\n",
    "%autoreload\n",
    "%matplotlib inline\n",
    "# import rasterio\n",
    "import sys\n",
    "import numpy as np\n",
    "sys.path.insert(0, \"..\")\n",
    "import src.models.predict_classes"
   ]
  },
  {
   "cell_type": "code",
   "execution_count": 176,
   "metadata": {},
   "outputs": [],
   "source": [
    "tif_path = '../data/raw/athens_satellite.tif'\n",
    "rel_path = '../data/processed/athens'\n",
    "r_start=1000\n",
    "r_end=2000\n",
    "c_start=1000\n",
    "c_end=2000\n",
    "sat_master = src.models.predict_classes.SatelliteTif(tif_path, rel_path,\n",
    "                 c_channels=[0, 1, 3], sub_img_w=200, sub_img_h=200,\n",
    "                 num_train = 20, valid_frac = 0.3,\n",
    "                 r_start=1000, r_end=2000, c_start=0, c_end=np.inf)"
   ]
  },
  {
   "cell_type": "code",
   "execution_count": 177,
   "metadata": {},
   "outputs": [
    {
     "name": "stdout",
     "output_type": "stream",
     "text": [
      "built train\n",
      "built valid\n",
      "built pred\n"
     ]
    }
   ],
   "source": [
    "sat_master.build_train_dataset()\n",
    "print('built train')\n",
    "sat_master.build_valid_dataset()\n",
    "print('built valid')\n",
    "sat_master.build_pred_dataset()\n",
    "print('built pred')"
   ]
  },
  {
   "cell_type": "code",
   "execution_count": 170,
   "metadata": {},
   "outputs": [
    {
     "name": "stdout",
     "output_type": "stream",
     "text": [
      "1308\n",
      "[[  872     0]\n",
      " [  872   200]\n",
      " [  872   400]\n",
      " ...\n",
      " [ 1872 43000]\n",
      " [ 1872 43200]\n",
      " [ 1872 43400]]\n"
     ]
    }
   ],
   "source": [
    "print(len(sat_master.pred_origins))\n",
    "print(sat_master.pred_origins)"
   ]
  },
  {
   "cell_type": "code",
   "execution_count": 129,
   "metadata": {},
   "outputs": [
    {
     "ename": "AttributeError",
     "evalue": "module 'skimage' has no attribute 'io'",
     "output_type": "error",
     "traceback": [
      "\u001b[0;31m---------------------------------------------------------------------------\u001b[0m",
      "\u001b[0;31mAttributeError\u001b[0m                            Traceback (most recent call last)",
      "\u001b[0;32m<ipython-input-129-4743225fb0af>\u001b[0m in \u001b[0;36m<module>\u001b[0;34m\u001b[0m\n\u001b[1;32m      1\u001b[0m \u001b[0;32mimport\u001b[0m \u001b[0mskimage\u001b[0m\u001b[0;34m\u001b[0m\u001b[0m\n\u001b[0;32m----> 2\u001b[0;31m \u001b[0mskimage\u001b[0m\u001b[0;34m.\u001b[0m\u001b[0mio\u001b[0m\u001b[0;34m.\u001b[0m\u001b[0mimwrite\u001b[0m\u001b[0;34m\u001b[0m\u001b[0m\n\u001b[0m",
      "\u001b[0;31mAttributeError\u001b[0m: module 'skimage' has no attribute 'io'"
     ]
    }
   ],
   "source": [
    "import skimage\n",
    "skimage.io.imwrite"
   ]
  },
  {
   "cell_type": "code",
   "execution_count": 130,
   "metadata": {},
   "outputs": [],
   "source": [
    "from skimage import io\n",
    "io.imwri"
   ]
  },
  {
   "cell_type": "code",
   "execution_count": 101,
   "metadata": {},
   "outputs": [
    {
     "name": "stdout",
     "output_type": "stream",
     "text": [
      "70\n",
      "30\n",
      "[[22880 17080]\n",
      " [28880 26080]\n",
      " [22680 16280]\n",
      " [14880 14480]\n",
      " [29480 22880]\n",
      " [18480 24280]\n",
      " [28280 27480]\n",
      " [14280 16280]\n",
      " [17280 19480]\n",
      " [25280 18480]\n",
      " [18080 16080]\n",
      " [28280 16480]\n",
      " [23680 30480]\n",
      " [13080 28280]\n",
      " [27280 28080]\n",
      " [21480 23880]\n",
      " [15080 19080]\n",
      " [19880 30480]\n",
      " [15480 23480]\n",
      " [21680 26480]\n",
      " [15680 29880]\n",
      " [18680 23680]\n",
      " [29080 25280]\n",
      " [17280 23480]\n",
      " [30080 22080]\n",
      " [19680 22280]\n",
      " [21680 14880]\n",
      " [21480 16480]\n",
      " [24480 26680]\n",
      " [21080 27480]\n",
      " [22880 26480]\n",
      " [30080 21080]\n",
      " [24480 15080]\n",
      " [16080 21480]\n",
      " [27480 24880]\n",
      " [29280 18080]\n",
      " [23280 14680]\n",
      " [20880 29080]\n",
      " [16080 15880]\n",
      " [29480 19480]\n",
      " [22880 18080]\n",
      " [28080 26680]\n",
      " [28080 27680]\n",
      " [27680 16280]\n",
      " [25280 22080]\n",
      " [23280 25080]\n",
      " [29280 19480]\n",
      " [18680 29680]\n",
      " [27480 29480]\n",
      " [13480 28680]\n",
      " [13080 19280]\n",
      " [30480 25280]\n",
      " [26080 19480]\n",
      " [16680 26880]\n",
      " [19280 13880]\n",
      " [24080 21880]\n",
      " [17080 17480]\n",
      " [20280 20480]\n",
      " [26680 19280]\n",
      " [14480 15680]\n",
      " [19880 28480]\n",
      " [15480 23080]\n",
      " [27280 29280]\n",
      " [14480 17880]\n",
      " [22480 28480]\n",
      " [13480 29680]\n",
      " [17480 25280]\n",
      " [16280 29680]\n",
      " [19480 24480]\n",
      " [18080 14080]]\n",
      "[[14080 22880]\n",
      " [16080 21880]\n",
      " [13080 24080]\n",
      " [15480 26680]\n",
      " [30480 22280]\n",
      " [23680 16880]\n",
      " [30480 20880]\n",
      " [23880 14480]\n",
      " [23480 17880]\n",
      " [23080 19280]\n",
      " [18080 29480]\n",
      " [25480 16280]\n",
      " [19280 30480]\n",
      " [16680 23080]\n",
      " [23680 30080]\n",
      " [29280 15080]\n",
      " [20680 19480]\n",
      " [29280 22280]\n",
      " [22880 24280]\n",
      " [23280 22480]\n",
      " [13680 18080]\n",
      " [20880 17280]\n",
      " [18680 21280]\n",
      " [26480 27680]\n",
      " [28880 15680]\n",
      " [13080 29480]\n",
      " [19880 26280]\n",
      " [19280 16280]\n",
      " [16880 13680]\n",
      " [13080 18480]]\n"
     ]
    }
   ],
   "source": [
    "print(len(sat_master.train_origins))\n",
    "print(len(sat_master.valid_origins))\n",
    "print(sat_master.train_origins)\n",
    "print(sat_master.valid_origins)"
   ]
  },
  {
   "cell_type": "code",
   "execution_count": 23,
   "metadata": {},
   "outputs": [
    {
     "data": {
      "text/plain": [
       "'image_00001_01000'"
      ]
     },
     "execution_count": 23,
     "metadata": {},
     "output_type": "execute_result"
    }
   ],
   "source": [
    "sat_master.image_save_format.format(1, 1000)"
   ]
  },
  {
   "cell_type": "code",
   "execution_count": 2,
   "metadata": {},
   "outputs": [
    {
     "data": {
      "text/plain": [
       "'2.0'"
      ]
     },
     "execution_count": 2,
     "metadata": {},
     "output_type": "execute_result"
    }
   ],
   "source": [
    "str(2.)"
   ]
  },
  {
   "cell_type": "code",
   "execution_count": 8,
   "metadata": {},
   "outputs": [
    {
     "data": {
      "text/plain": [
       "'1011'"
      ]
     },
     "execution_count": 8,
     "metadata": {},
     "output_type": "execute_result"
    }
   ],
   "source": [
    "'{}{}'.format(10, 11)"
   ]
  },
  {
   "cell_type": "code",
   "execution_count": null,
   "metadata": {},
   "outputs": [],
   "source": []
  },
  {
   "cell_type": "code",
   "execution_count": 25,
   "metadata": {},
   "outputs": [
    {
     "ename": "ValueError",
     "evalue": "a must be 1-dimensional",
     "output_type": "error",
     "traceback": [
      "\u001b[0;31m---------------------------------------------------------------------------\u001b[0m",
      "\u001b[0;31mValueError\u001b[0m                                Traceback (most recent call last)",
      "\u001b[0;32m<ipython-input-25-a09ad66a3e01>\u001b[0m in \u001b[0;36m<module>\u001b[0;34m\u001b[0m\n\u001b[0;32m----> 1\u001b[0;31m \u001b[0mnp\u001b[0m\u001b[0;34m.\u001b[0m\u001b[0mrandom\u001b[0m\u001b[0;34m.\u001b[0m\u001b[0mchoice\u001b[0m\u001b[0;34m(\u001b[0m\u001b[0mnp\u001b[0m\u001b[0;34m.\u001b[0m\u001b[0marray\u001b[0m\u001b[0;34m(\u001b[0m\u001b[0;34m[\u001b[0m\u001b[0;34m[\u001b[0m\u001b[0;36m1\u001b[0m\u001b[0;34m,\u001b[0m\u001b[0;36m2\u001b[0m\u001b[0;34m]\u001b[0m\u001b[0;34m,\u001b[0m \u001b[0;34m[\u001b[0m\u001b[0;36m3\u001b[0m\u001b[0;34m,\u001b[0m\u001b[0;36m4\u001b[0m\u001b[0;34m]\u001b[0m\u001b[0;34m,\u001b[0m \u001b[0;34m[\u001b[0m\u001b[0;36m5\u001b[0m\u001b[0;34m,\u001b[0m\u001b[0;36m6\u001b[0m\u001b[0;34m]\u001b[0m\u001b[0;34m,\u001b[0m \u001b[0;34m[\u001b[0m\u001b[0;36m7\u001b[0m\u001b[0;34m,\u001b[0m\u001b[0;36m8\u001b[0m\u001b[0;34m]\u001b[0m\u001b[0;34m]\u001b[0m\u001b[0;34m)\u001b[0m\u001b[0;34m,\u001b[0m \u001b[0;36m2\u001b[0m\u001b[0;34m)\u001b[0m\u001b[0;34m\u001b[0m\u001b[0m\n\u001b[0m",
      "\u001b[0;32mmtrand.pyx\u001b[0m in \u001b[0;36mmtrand.RandomState.choice\u001b[0;34m()\u001b[0m\n",
      "\u001b[0;31mValueError\u001b[0m: a must be 1-dimensional"
     ]
    }
   ],
   "source": [
    "np.random.choice(np.array([[1,2], [3,4], [5,6], [7,8]]), 2)"
   ]
  },
  {
   "cell_type": "code",
   "execution_count": 30,
   "metadata": {},
   "outputs": [
    {
     "ename": "ValueError",
     "evalue": "Cannot take a larger sample than population when 'replace=False'",
     "output_type": "error",
     "traceback": [
      "\u001b[0;31m---------------------------------------------------------------------------\u001b[0m",
      "\u001b[0;31mValueError\u001b[0m                                Traceback (most recent call last)",
      "\u001b[0;32m<ipython-input-30-dac1f9f538e5>\u001b[0m in \u001b[0;36m<module>\u001b[0;34m\u001b[0m\n\u001b[0;32m----> 1\u001b[0;31m \u001b[0mnp\u001b[0m\u001b[0;34m.\u001b[0m\u001b[0mrandom\u001b[0m\u001b[0;34m.\u001b[0m\u001b[0mchoice\u001b[0m\u001b[0;34m(\u001b[0m\u001b[0mnp\u001b[0m\u001b[0;34m.\u001b[0m\u001b[0marange\u001b[0m\u001b[0;34m(\u001b[0m\u001b[0;36m10\u001b[0m\u001b[0;34m)\u001b[0m\u001b[0;34m,\u001b[0m \u001b[0msize\u001b[0m\u001b[0;34m=\u001b[0m\u001b[0;36m11\u001b[0m\u001b[0;34m,\u001b[0m \u001b[0mreplace\u001b[0m\u001b[0;34m=\u001b[0m\u001b[0;32mFalse\u001b[0m\u001b[0;34m)\u001b[0m\u001b[0;34m\u001b[0m\u001b[0m\n\u001b[0m",
      "\u001b[0;32mmtrand.pyx\u001b[0m in \u001b[0;36mmtrand.RandomState.choice\u001b[0;34m()\u001b[0m\n",
      "\u001b[0;31mValueError\u001b[0m: Cannot take a larger sample than population when 'replace=False'"
     ]
    }
   ],
   "source": [
    "np.random.choice(np.arange(10), size=11, replace=False)"
   ]
  },
  {
   "cell_type": "markdown",
   "metadata": {},
   "source": [
    "if 3 not 4:"
   ]
  },
  {
   "cell_type": "code",
   "execution_count": 68,
   "metadata": {},
   "outputs": [
    {
     "name": "stdout",
     "output_type": "stream",
     "text": [
      "hello\n"
     ]
    }
   ],
   "source": [
    "if not 3==4:\n",
    "    print('hello')"
   ]
  },
  {
   "cell_type": "code",
   "execution_count": null,
   "metadata": {},
   "outputs": [],
   "source": []
  }
 ],
 "metadata": {
  "kernelspec": {
   "display_name": "Python 3",
   "language": "python",
   "name": "python3"
  },
  "language_info": {
   "codemirror_mode": {
    "name": "ipython",
    "version": 3
   },
   "file_extension": ".py",
   "mimetype": "text/x-python",
   "name": "python",
   "nbconvert_exporter": "python",
   "pygments_lexer": "ipython3",
   "version": "3.6.5"
  }
 },
 "nbformat": 4,
 "nbformat_minor": 2
}
