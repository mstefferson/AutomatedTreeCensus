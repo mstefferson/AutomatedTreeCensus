{
 "cells": [
  {
   "cell_type": "code",
   "execution_count": 202,
   "metadata": {},
   "outputs": [
    {
     "name": "stdout",
     "output_type": "stream",
     "text": [
      "The autoreload extension is already loaded. To reload it, use:\n",
      "  %reload_ext autoreload\n"
     ]
    }
   ],
   "source": [
    "%load_ext autoreload\n",
    "%autoreload\n",
    "%matplotlib inline\n",
    "# import rasterio\n",
    "import sys\n",
    "import numpy as np\n",
    "sys.path.insert(0, \"..\")\n",
    "import src.models.predict_classes"
   ]
  },
  {
   "cell_type": "code",
   "execution_count": 203,
   "metadata": {},
   "outputs": [],
   "source": [
    "tif_path = '../data/raw/athens_satellite.tif'\n",
    "rel_path = '../data/processed/athens'\n",
    "r_start=1000\n",
    "r_end=2000\n",
    "c_start=1000\n",
    "c_end=2000\n",
    "sat_master = src.models.predict_classes.SatelliteTif(tif_path, rel_path,\n",
    "                 c_channels=[0, 1, 3], sub_img_w=200, sub_img_h=200,\n",
    "                 num_train = 20, valid_frac = 0.3,\n",
    "                 r_start=1000, r_end=2000, c_start=c_start, c_end=c_end)"
   ]
  },
  {
   "cell_type": "code",
   "execution_count": 204,
   "metadata": {},
   "outputs": [
    {
     "data": {
      "text/plain": [
       "25"
      ]
     },
     "execution_count": 204,
     "metadata": {},
     "output_type": "execute_result"
    }
   ],
   "source": [
    "len(sat_master.pred_origins)"
   ]
  },
  {
   "cell_type": "code",
   "execution_count": 205,
   "metadata": {},
   "outputs": [
    {
     "data": {
      "text/plain": [
       "array([[1000, 1000],\n",
       "       [1000, 1200],\n",
       "       [1000, 1400],\n",
       "       [1000, 1600],\n",
       "       [1000, 1800],\n",
       "       [1200, 1000],\n",
       "       [1200, 1200],\n",
       "       [1200, 1400],\n",
       "       [1200, 1600],\n",
       "       [1200, 1800],\n",
       "       [1400, 1000],\n",
       "       [1400, 1200],\n",
       "       [1400, 1400],\n",
       "       [1400, 1600],\n",
       "       [1400, 1800],\n",
       "       [1600, 1000],\n",
       "       [1600, 1200],\n",
       "       [1600, 1400],\n",
       "       [1600, 1600],\n",
       "       [1600, 1800],\n",
       "       [1800, 1000],\n",
       "       [1800, 1200],\n",
       "       [1800, 1400],\n",
       "       [1800, 1600],\n",
       "       [1800, 1800]])"
      ]
     },
     "execution_count": 205,
     "metadata": {},
     "output_type": "execute_result"
    }
   ],
   "source": [
    "sat_master.pred_origins"
   ]
  },
  {
   "cell_type": "code",
   "execution_count": 206,
   "metadata": {},
   "outputs": [
    {
     "name": "stdout",
     "output_type": "stream",
     "text": [
      "built train\n",
      "built valid\n",
      "built pred\n"
     ]
    }
   ],
   "source": [
    "sat_master.build_train_dataset()\n",
    "print('built train')\n",
    "sat_master.build_valid_dataset()\n",
    "print('built valid')\n",
    "sat_master.build_pred_dataset()\n",
    "print('built pred')"
   ]
  },
  {
   "cell_type": "code",
   "execution_count": 193,
   "metadata": {},
   "outputs": [],
   "source": [
    "sat_master.clean_pred_images()\n",
    "sat_master.clean_train_images()\n",
    "sat_master.clean_valid_images()"
   ]
  },
  {
   "cell_type": "code",
   "execution_count": 170,
   "metadata": {},
   "outputs": [
    {
     "name": "stdout",
     "output_type": "stream",
     "text": [
      "1308\n",
      "[[  872     0]\n",
      " [  872   200]\n",
      " [  872   400]\n",
      " ...\n",
      " [ 1872 43000]\n",
      " [ 1872 43200]\n",
      " [ 1872 43400]]\n"
     ]
    }
   ],
   "source": [
    "print(len(sat_master.pred_origins))\n",
    "print(sat_master.pred_origins)"
   ]
  },
  {
   "cell_type": "code",
   "execution_count": 129,
   "metadata": {},
   "outputs": [
    {
     "ename": "AttributeError",
     "evalue": "module 'skimage' has no attribute 'io'",
     "output_type": "error",
     "traceback": [
      "\u001b[0;31m---------------------------------------------------------------------------\u001b[0m",
      "\u001b[0;31mAttributeError\u001b[0m                            Traceback (most recent call last)",
      "\u001b[0;32m<ipython-input-129-4743225fb0af>\u001b[0m in \u001b[0;36m<module>\u001b[0;34m\u001b[0m\n\u001b[1;32m      1\u001b[0m \u001b[0;32mimport\u001b[0m \u001b[0mskimage\u001b[0m\u001b[0;34m\u001b[0m\u001b[0m\n\u001b[0;32m----> 2\u001b[0;31m \u001b[0mskimage\u001b[0m\u001b[0;34m.\u001b[0m\u001b[0mio\u001b[0m\u001b[0;34m.\u001b[0m\u001b[0mimwrite\u001b[0m\u001b[0;34m\u001b[0m\u001b[0m\n\u001b[0m",
      "\u001b[0;31mAttributeError\u001b[0m: module 'skimage' has no attribute 'io'"
     ]
    }
   ],
   "source": [
    "import skimage\n",
    "skimage.io.imwrite"
   ]
  },
  {
   "cell_type": "code",
   "execution_count": 130,
   "metadata": {},
   "outputs": [],
   "source": [
    "from skimage import io\n",
    "io.imwri"
   ]
  },
  {
   "cell_type": "code",
   "execution_count": 101,
   "metadata": {},
   "outputs": [
    {
     "name": "stdout",
     "output_type": "stream",
     "text": [
      "70\n",
      "30\n",
      "[[22880 17080]\n",
      " [28880 26080]\n",
      " [22680 16280]\n",
      " [14880 14480]\n",
      " [29480 22880]\n",
      " [18480 24280]\n",
      " [28280 27480]\n",
      " [14280 16280]\n",
      " [17280 19480]\n",
      " [25280 18480]\n",
      " [18080 16080]\n",
      " [28280 16480]\n",
      " [23680 30480]\n",
      " [13080 28280]\n",
      " [27280 28080]\n",
      " [21480 23880]\n",
      " [15080 19080]\n",
      " [19880 30480]\n",
      " [15480 23480]\n",
      " [21680 26480]\n",
      " [15680 29880]\n",
      " [18680 23680]\n",
      " [29080 25280]\n",
      " [17280 23480]\n",
      " [30080 22080]\n",
      " [19680 22280]\n",
      " [21680 14880]\n",
      " [21480 16480]\n",
      " [24480 26680]\n",
      " [21080 27480]\n",
      " [22880 26480]\n",
      " [30080 21080]\n",
      " [24480 15080]\n",
      " [16080 21480]\n",
      " [27480 24880]\n",
      " [29280 18080]\n",
      " [23280 14680]\n",
      " [20880 29080]\n",
      " [16080 15880]\n",
      " [29480 19480]\n",
      " [22880 18080]\n",
      " [28080 26680]\n",
      " [28080 27680]\n",
      " [27680 16280]\n",
      " [25280 22080]\n",
      " [23280 25080]\n",
      " [29280 19480]\n",
      " [18680 29680]\n",
      " [27480 29480]\n",
      " [13480 28680]\n",
      " [13080 19280]\n",
      " [30480 25280]\n",
      " [26080 19480]\n",
      " [16680 26880]\n",
      " [19280 13880]\n",
      " [24080 21880]\n",
      " [17080 17480]\n",
      " [20280 20480]\n",
      " [26680 19280]\n",
      " [14480 15680]\n",
      " [19880 28480]\n",
      " [15480 23080]\n",
      " [27280 29280]\n",
      " [14480 17880]\n",
      " [22480 28480]\n",
      " [13480 29680]\n",
      " [17480 25280]\n",
      " [16280 29680]\n",
      " [19480 24480]\n",
      " [18080 14080]]\n",
      "[[14080 22880]\n",
      " [16080 21880]\n",
      " [13080 24080]\n",
      " [15480 26680]\n",
      " [30480 22280]\n",
      " [23680 16880]\n",
      " [30480 20880]\n",
      " [23880 14480]\n",
      " [23480 17880]\n",
      " [23080 19280]\n",
      " [18080 29480]\n",
      " [25480 16280]\n",
      " [19280 30480]\n",
      " [16680 23080]\n",
      " [23680 30080]\n",
      " [29280 15080]\n",
      " [20680 19480]\n",
      " [29280 22280]\n",
      " [22880 24280]\n",
      " [23280 22480]\n",
      " [13680 18080]\n",
      " [20880 17280]\n",
      " [18680 21280]\n",
      " [26480 27680]\n",
      " [28880 15680]\n",
      " [13080 29480]\n",
      " [19880 26280]\n",
      " [19280 16280]\n",
      " [16880 13680]\n",
      " [13080 18480]]\n"
     ]
    }
   ],
   "source": [
    "print(len(sat_master.train_origins))\n",
    "print(len(sat_master.valid_origins))\n",
    "print(sat_master.train_origins)\n",
    "print(sat_master.valid_origins)"
   ]
  },
  {
   "cell_type": "code",
   "execution_count": 23,
   "metadata": {},
   "outputs": [
    {
     "data": {
      "text/plain": [
       "'image_00001_01000'"
      ]
     },
     "execution_count": 23,
     "metadata": {},
     "output_type": "execute_result"
    }
   ],
   "source": [
    "sat_master.image_save_format.format(1, 1000)"
   ]
  },
  {
   "cell_type": "code",
   "execution_count": 2,
   "metadata": {},
   "outputs": [
    {
     "data": {
      "text/plain": [
       "'2.0'"
      ]
     },
     "execution_count": 2,
     "metadata": {},
     "output_type": "execute_result"
    }
   ],
   "source": [
    "str(2.)"
   ]
  },
  {
   "cell_type": "code",
   "execution_count": 8,
   "metadata": {},
   "outputs": [
    {
     "data": {
      "text/plain": [
       "'1011'"
      ]
     },
     "execution_count": 8,
     "metadata": {},
     "output_type": "execute_result"
    }
   ],
   "source": [
    "'{}{}'.format(10, 11)"
   ]
  },
  {
   "cell_type": "code",
   "execution_count": null,
   "metadata": {},
   "outputs": [],
   "source": []
  },
  {
   "cell_type": "code",
   "execution_count": 25,
   "metadata": {},
   "outputs": [
    {
     "ename": "ValueError",
     "evalue": "a must be 1-dimensional",
     "output_type": "error",
     "traceback": [
      "\u001b[0;31m---------------------------------------------------------------------------\u001b[0m",
      "\u001b[0;31mValueError\u001b[0m                                Traceback (most recent call last)",
      "\u001b[0;32m<ipython-input-25-a09ad66a3e01>\u001b[0m in \u001b[0;36m<module>\u001b[0;34m\u001b[0m\n\u001b[0;32m----> 1\u001b[0;31m \u001b[0mnp\u001b[0m\u001b[0;34m.\u001b[0m\u001b[0mrandom\u001b[0m\u001b[0;34m.\u001b[0m\u001b[0mchoice\u001b[0m\u001b[0;34m(\u001b[0m\u001b[0mnp\u001b[0m\u001b[0;34m.\u001b[0m\u001b[0marray\u001b[0m\u001b[0;34m(\u001b[0m\u001b[0;34m[\u001b[0m\u001b[0;34m[\u001b[0m\u001b[0;36m1\u001b[0m\u001b[0;34m,\u001b[0m\u001b[0;36m2\u001b[0m\u001b[0;34m]\u001b[0m\u001b[0;34m,\u001b[0m \u001b[0;34m[\u001b[0m\u001b[0;36m3\u001b[0m\u001b[0;34m,\u001b[0m\u001b[0;36m4\u001b[0m\u001b[0;34m]\u001b[0m\u001b[0;34m,\u001b[0m \u001b[0;34m[\u001b[0m\u001b[0;36m5\u001b[0m\u001b[0;34m,\u001b[0m\u001b[0;36m6\u001b[0m\u001b[0;34m]\u001b[0m\u001b[0;34m,\u001b[0m \u001b[0;34m[\u001b[0m\u001b[0;36m7\u001b[0m\u001b[0;34m,\u001b[0m\u001b[0;36m8\u001b[0m\u001b[0;34m]\u001b[0m\u001b[0;34m]\u001b[0m\u001b[0;34m)\u001b[0m\u001b[0;34m,\u001b[0m \u001b[0;36m2\u001b[0m\u001b[0;34m)\u001b[0m\u001b[0;34m\u001b[0m\u001b[0m\n\u001b[0m",
      "\u001b[0;32mmtrand.pyx\u001b[0m in \u001b[0;36mmtrand.RandomState.choice\u001b[0;34m()\u001b[0m\n",
      "\u001b[0;31mValueError\u001b[0m: a must be 1-dimensional"
     ]
    }
   ],
   "source": [
    "np.random.choice(np.array([[1,2], [3,4], [5,6], [7,8]]), 2)"
   ]
  },
  {
   "cell_type": "code",
   "execution_count": 30,
   "metadata": {},
   "outputs": [
    {
     "ename": "ValueError",
     "evalue": "Cannot take a larger sample than population when 'replace=False'",
     "output_type": "error",
     "traceback": [
      "\u001b[0;31m---------------------------------------------------------------------------\u001b[0m",
      "\u001b[0;31mValueError\u001b[0m                                Traceback (most recent call last)",
      "\u001b[0;32m<ipython-input-30-dac1f9f538e5>\u001b[0m in \u001b[0;36m<module>\u001b[0;34m\u001b[0m\n\u001b[0;32m----> 1\u001b[0;31m \u001b[0mnp\u001b[0m\u001b[0;34m.\u001b[0m\u001b[0mrandom\u001b[0m\u001b[0;34m.\u001b[0m\u001b[0mchoice\u001b[0m\u001b[0;34m(\u001b[0m\u001b[0mnp\u001b[0m\u001b[0;34m.\u001b[0m\u001b[0marange\u001b[0m\u001b[0;34m(\u001b[0m\u001b[0;36m10\u001b[0m\u001b[0;34m)\u001b[0m\u001b[0;34m,\u001b[0m \u001b[0msize\u001b[0m\u001b[0;34m=\u001b[0m\u001b[0;36m11\u001b[0m\u001b[0;34m,\u001b[0m \u001b[0mreplace\u001b[0m\u001b[0;34m=\u001b[0m\u001b[0;32mFalse\u001b[0m\u001b[0;34m)\u001b[0m\u001b[0;34m\u001b[0m\u001b[0m\n\u001b[0m",
      "\u001b[0;32mmtrand.pyx\u001b[0m in \u001b[0;36mmtrand.RandomState.choice\u001b[0;34m()\u001b[0m\n",
      "\u001b[0;31mValueError\u001b[0m: Cannot take a larger sample than population when 'replace=False'"
     ]
    }
   ],
   "source": [
    "np.random.choice(np.arange(10), size=11, replace=False)"
   ]
  },
  {
   "cell_type": "markdown",
   "metadata": {},
   "source": [
    "if 3 not 4:"
   ]
  },
  {
   "cell_type": "code",
   "execution_count": 68,
   "metadata": {},
   "outputs": [
    {
     "name": "stdout",
     "output_type": "stream",
     "text": [
      "hello\n"
     ]
    }
   ],
   "source": [
    "if not 3==4:\n",
    "    print('hello')"
   ]
  },
  {
   "cell_type": "code",
   "execution_count": 207,
   "metadata": {},
   "outputs": [],
   "source": [
    "from scipy.misc import imsave"
   ]
  },
  {
   "cell_type": "code",
   "execution_count": 209,
   "metadata": {},
   "outputs": [
    {
     "name": "stdout",
     "output_type": "stream",
     "text": [
      "[[[0.26332711 0.66190859 0.07043649]\n",
      "  [0.32917309 0.65722762 0.16594099]\n",
      "  [0.17846619 0.53931184 0.56056426]\n",
      "  [0.73929161 0.13087569 0.97056825]\n",
      "  [0.2698285  0.63516314 0.721763  ]\n",
      "  [0.2346232  0.12130158 0.15172742]\n",
      "  [0.07405886 0.37517614 0.91004171]\n",
      "  [0.67547203 0.41909389 0.27853356]\n",
      "  [0.80026012 0.75356195 0.36462072]\n",
      "  [0.88057628 0.62056368 0.72934583]]\n",
      "\n",
      " [[0.31847792 0.95215913 0.19467619]\n",
      "  [0.8095769  0.66098888 0.27185189]\n",
      "  [0.82525826 0.59029096 0.24061786]\n",
      "  [0.29975985 0.01743415 0.62978649]\n",
      "  [0.40630237 0.88849141 0.63081059]\n",
      "  [0.25547178 0.62573004 0.17140428]\n",
      "  [0.82331678 0.27913784 0.52816668]\n",
      "  [0.73372607 0.13267115 0.00236156]\n",
      "  [0.05504476 0.38132924 0.11194501]\n",
      "  [0.11850081 0.04543366 0.45011469]]\n",
      "\n",
      " [[0.71099998 0.56804693 0.16221707]\n",
      "  [0.63373458 0.44959168 0.13696522]\n",
      "  [0.26439769 0.46528353 0.65257131]\n",
      "  [0.31710776 0.38997358 0.34873296]\n",
      "  [0.17549995 0.3925157  0.97427481]\n",
      "  [0.04467492 0.91950185 0.75285561]\n",
      "  [0.08221637 0.69617578 0.44724116]\n",
      "  [0.06076927 0.34197795 0.82831365]\n",
      "  [0.28407657 0.59017528 0.28200299]\n",
      "  [0.07430128 0.85363496 0.50762581]]\n",
      "\n",
      " [[0.7793704  0.83127948 0.34350604]\n",
      "  [0.60702653 0.57730812 0.69489566]\n",
      "  [0.90729192 0.44964175 0.32194563]\n",
      "  [0.36730964 0.565883   0.10032933]\n",
      "  [0.65588843 0.33934252 0.9012656 ]\n",
      "  [0.86218166 0.27963832 0.26281129]\n",
      "  [0.94552472 0.86536113 0.2490189 ]\n",
      "  [0.43180751 0.5832054  0.69216521]\n",
      "  [0.82164048 0.80935382 0.68500525]\n",
      "  [0.75478981 0.08099143 0.45931325]]\n",
      "\n",
      " [[0.27119899 0.81495148 0.43239087]\n",
      "  [0.22863154 0.91797808 0.75260593]\n",
      "  [0.09097387 0.64676846 0.84492424]\n",
      "  [0.56320265 0.11187202 0.19099668]\n",
      "  [0.48234595 0.13872667 0.27604952]\n",
      "  [0.07267147 0.2290236  0.34618402]\n",
      "  [0.75980879 0.432347   0.66603288]\n",
      "  [0.78289801 0.09894828 0.97220971]\n",
      "  [0.11220962 0.70895946 0.25790131]\n",
      "  [0.27704803 0.59348531 0.68699351]]\n",
      "\n",
      " [[0.27584518 0.25025543 0.99456913]\n",
      "  [0.920526   0.0542511  0.21460163]\n",
      "  [0.0815308  0.89892981 0.65282526]\n",
      "  [0.46960517 0.01333919 0.82538236]\n",
      "  [0.6057542  0.65347602 0.55961992]\n",
      "  [0.17638361 0.72811543 0.49834314]\n",
      "  [0.17671834 0.29756378 0.29445969]\n",
      "  [0.5250589  0.53755199 0.16410758]\n",
      "  [0.62901066 0.74619249 0.64223218]\n",
      "  [0.4307951  0.78854865 0.14964151]]\n",
      "\n",
      " [[0.32026914 0.30462289 0.18643668]\n",
      "  [0.35588002 0.43204854 0.23317512]\n",
      "  [0.57503794 0.70313248 0.83758755]\n",
      "  [0.71728929 0.40862358 0.03648044]\n",
      "  [0.66680696 0.64792237 0.71927202]\n",
      "  [0.92783862 0.16984304 0.27172737]\n",
      "  [0.13406186 0.13664374 0.42317734]\n",
      "  [0.20818665 0.37841669 0.02328637]\n",
      "  [0.1195775  0.94564691 0.46860887]\n",
      "  [0.83352169 0.55337316 0.5495975 ]]\n",
      "\n",
      " [[0.48920085 0.88675961 0.53811913]\n",
      "  [0.65447071 0.96541502 0.71638507]\n",
      "  [0.71121519 0.45713906 0.60531956]\n",
      "  [0.61249596 0.83954077 0.34685441]\n",
      "  [0.98632862 0.92305144 0.39391998]\n",
      "  [0.21019599 0.23008007 0.89125548]\n",
      "  [0.86668435 0.99952601 0.98409348]\n",
      "  [0.2430985  0.83970508 0.59499305]\n",
      "  [0.83072393 0.82314947 0.42933299]\n",
      "  [0.6437132  0.30769287 0.45919605]]\n",
      "\n",
      " [[0.03918632 0.35504204 0.3529689 ]\n",
      "  [0.55854231 0.56332462 0.69945964]\n",
      "  [0.80955624 0.01268266 0.82250557]\n",
      "  [0.61333794 0.51476274 0.8469285 ]\n",
      "  [0.15014843 0.5418922  0.0634532 ]\n",
      "  [0.55119744 0.27226421 0.26589259]\n",
      "  [0.42993507 0.08389626 0.00733572]\n",
      "  [0.8035738  0.24661793 0.9881278 ]\n",
      "  [0.90593232 0.74661668 0.52700452]\n",
      "  [0.68292934 0.23684979 0.58278929]]\n",
      "\n",
      " [[0.58206666 0.03189169 0.07330347]\n",
      "  [0.50890174 0.05378486 0.52705203]\n",
      "  [0.90185084 0.57802553 0.00249418]\n",
      "  [0.97146314 0.95975433 0.98464196]\n",
      "  [0.01564709 0.95595131 0.91468479]\n",
      "  [0.35880618 0.12029892 0.02433964]\n",
      "  [0.88078992 0.55377157 0.71866057]\n",
      "  [0.36635726 0.04231726 0.57836089]\n",
      "  [0.53548856 0.08593336 0.53261209]\n",
      "  [0.2810707  0.17233086 0.8154152 ]]]\n"
     ]
    }
   ],
   "source": [
    "array =  np.random.rand(10,10,3)\n",
    "print(array)"
   ]
  },
  {
   "cell_type": "code",
   "execution_count": null,
   "metadata": {},
   "outputs": [],
   "source": []
  }
 ],
 "metadata": {
  "kernelspec": {
   "display_name": "Python 3",
   "language": "python",
   "name": "python3"
  },
  "language_info": {
   "codemirror_mode": {
    "name": "ipython",
    "version": 3
   },
   "file_extension": ".py",
   "mimetype": "text/x-python",
   "name": "python",
   "nbconvert_exporter": "python",
   "pygments_lexer": "ipython3",
   "version": "3.6.5"
  }
 },
 "nbformat": 4,
 "nbformat_minor": 2
}
